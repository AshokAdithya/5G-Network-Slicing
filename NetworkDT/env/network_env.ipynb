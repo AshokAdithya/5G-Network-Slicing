{
 "cells": [
  {
   "cell_type": "code",
   "execution_count": 2,
   "id": "4155ab2f-dba4-4f02-afd6-19b42759495a",
   "metadata": {},
   "outputs": [
    {
     "name": "stdout",
     "output_type": "stream",
     "text": [
      "Collecting gym\n",
      "  Downloading gym-0.26.2.tar.gz (721 kB)\n",
      "     ---------------------------------------- 0.0/721.7 kB ? eta -:--:--\n",
      "     -------------------------------------- 721.7/721.7 kB 5.8 MB/s eta 0:00:00\n",
      "  Installing build dependencies: started\n",
      "  Installing build dependencies: finished with status 'done'\n",
      "  Getting requirements to build wheel: started\n",
      "  Getting requirements to build wheel: finished with status 'done'\n",
      "  Preparing metadata (pyproject.toml): started\n",
      "  Preparing metadata (pyproject.toml): finished with status 'done'\n",
      "Requirement already satisfied: numpy>=1.18.0 in c:\\users\\ashok adithya\\.conda\\envs\\tf_2_9\\lib\\site-packages (from gym) (1.24.4)\n",
      "Collecting cloudpickle>=1.2.0 (from gym)\n",
      "  Downloading cloudpickle-3.1.1-py3-none-any.whl.metadata (7.1 kB)\n",
      "Collecting gym-notices>=0.0.4 (from gym)\n",
      "  Downloading gym_notices-0.0.8-py3-none-any.whl.metadata (1.0 kB)\n",
      "Requirement already satisfied: importlib-metadata>=4.8.0 in c:\\users\\ashok adithya\\.conda\\envs\\tf_2_9\\lib\\site-packages (from gym) (8.5.0)\n",
      "Requirement already satisfied: zipp>=3.20 in c:\\users\\ashok adithya\\.conda\\envs\\tf_2_9\\lib\\site-packages (from importlib-metadata>=4.8.0->gym) (3.21.0)\n",
      "Downloading cloudpickle-3.1.1-py3-none-any.whl (20 kB)\n",
      "Downloading gym_notices-0.0.8-py3-none-any.whl (3.0 kB)\n",
      "Building wheels for collected packages: gym\n",
      "  Building wheel for gym (pyproject.toml): started\n",
      "  Building wheel for gym (pyproject.toml): finished with status 'done'\n",
      "  Created wheel for gym: filename=gym-0.26.2-py3-none-any.whl size=827632 sha256=cdb0c524c30af67fb08b16ad16eccd05333fa64eace8b7c7648d2286ed075751\n",
      "  Stored in directory: c:\\users\\ashok adithya\\appdata\\local\\pip\\cache\\wheels\\17\\79\\65\\7afedc162d858b02708a3b8f7a6dd5b1000dcd5b0f894f7cc1\n",
      "Successfully built gym\n",
      "Installing collected packages: gym-notices, cloudpickle, gym\n",
      "Successfully installed cloudpickle-3.1.1 gym-0.26.2 gym-notices-0.0.8\n"
     ]
    }
   ],
   "source": [
    "!pip install gym"
   ]
  },
  {
   "cell_type": "code",
   "execution_count": 8,
   "id": "59a6a1f5-003c-495b-aaf1-bc2df793c504",
   "metadata": {},
   "outputs": [],
   "source": [
    "import numpy as np\n",
    "import gym\n",
    "from gym import spaces\n",
    "\n",
    "class DigitalTwin5GEnv(gym.Env):\n",
    "    def __init__(self):\n",
    "        super(DigitalTwin5GEnv, self).__init__()\n",
    "        self.observation_space = spaces.Box(low=0, high=1, shape=(60, 11), dtype=np.float32)\n",
    "        self.action_space = spaces.Discrete(3)  # emBB, URLLC, mMTC\n",
    "        self.current_step = 0\n",
    "        self.state = np.random.rand(60, 11)\n",
    "\n",
    "    def reset(self):\n",
    "        self.current_step = 0\n",
    "        self.state = np.random.rand(60, 11)\n",
    "        return self.state\n",
    "\n",
    "    def step(self, action):\n",
    "        reward = np.random.rand()  # Replace with real metric logic\n",
    "        done = self.current_step >= 200\n",
    "        self.current_step += 1\n",
    "        self.state = np.random.rand(60, 11)  # Simulate next input\n",
    "        return self.state, reward, done, {}\n"
   ]
  },
  {
   "cell_type": "code",
   "execution_count": 9,
   "id": "22df5444-7ee0-42ee-aa6f-fbe71e796e34",
   "metadata": {},
   "outputs": [
    {
     "ename": "ModuleNotFoundError",
     "evalue": "No module named 'env'",
     "output_type": "error",
     "traceback": [
      "\u001b[1;31m---------------------------------------------------------------------------\u001b[0m",
      "\u001b[1;31mModuleNotFoundError\u001b[0m                       Traceback (most recent call last)",
      "Cell \u001b[1;32mIn[9], line 3\u001b[0m\n\u001b[0;32m      1\u001b[0m \u001b[38;5;28;01mimport\u001b[39;00m \u001b[38;5;21;01mnumpy\u001b[39;00m \u001b[38;5;28;01mas\u001b[39;00m \u001b[38;5;21;01mnp\u001b[39;00m\n\u001b[0;32m      2\u001b[0m \u001b[38;5;28;01mfrom\u001b[39;00m \u001b[38;5;21;01mtensorflow\u001b[39;00m\u001b[38;5;21;01m.\u001b[39;00m\u001b[38;5;21;01mkeras\u001b[39;00m\u001b[38;5;21;01m.\u001b[39;00m\u001b[38;5;21;01mmodels\u001b[39;00m \u001b[38;5;28;01mimport\u001b[39;00m load_model\n\u001b[1;32m----> 3\u001b[0m \u001b[38;5;28;01mfrom\u001b[39;00m \u001b[38;5;21;01menv\u001b[39;00m\u001b[38;5;21;01m.\u001b[39;00m\u001b[38;5;21;01mnetwork_env\u001b[39;00m \u001b[38;5;28;01mimport\u001b[39;00m DigitalTwin5GEnv\n\u001b[0;32m      4\u001b[0m \u001b[38;5;28;01mfrom\u001b[39;00m \u001b[38;5;21;01magent\u001b[39;00m\u001b[38;5;21;01m.\u001b[39;00m\u001b[38;5;21;01mdqn_agent\u001b[39;00m \u001b[38;5;28;01mimport\u001b[39;00m DQNAgent\n\u001b[0;32m      6\u001b[0m demand_model \u001b[38;5;241m=\u001b[39m load_model(\u001b[38;5;124m\"\u001b[39m\u001b[38;5;124mdemandPredictionTanh2.h5\u001b[39m\u001b[38;5;124m\"\u001b[39m)\n",
      "\u001b[1;31mModuleNotFoundError\u001b[0m: No module named 'env'"
     ]
    }
   ],
   "source": [
    "import numpy as np\n",
    "from tensorflow.keras.models import load_model\n",
    "from env.network_env import DigitalTwin5GEnv\n",
    "from agent.dqn_agent import DQNAgent\n",
    "\n",
    "demand_model = load_model(\"demandPredictionTanh2.h5\")\n",
    "classification_model = load_model(\"ann_model.h5\")\n",
    "\n",
    "env = DigitalTwin5GEnv()\n",
    "agent = DQNAgent(env)\n",
    "\n",
    "episodes = 20\n",
    "\n",
    "for ep in range(episodes):\n",
    "    state = env.reset()\n",
    "    total_reward = 0\n",
    "    done = False\n",
    "\n",
    "    while not done:\n",
    "        demand = demand_model.predict(state.reshape(1, 60, 11), verbose=0).flatten()[0]\n",
    "        traffic_type = np.argmax(classification_model.predict(state.reshape(1, 60, 11), verbose=0), axis=1)[0]\n",
    "\n",
    "        action = agent.act(state)\n",
    "        next_state, reward, done, _ = env.step(action)\n",
    "        agent.remember(state, action, reward, next_state, done)\n",
    "        state = next_state\n",
    "        total_reward += reward\n",
    "\n",
    "    print(f\"✅ Episode {ep+1}: Total Reward = {total_reward:.2f}\")\n",
    "    agent.replay()\n"
   ]
  },
  {
   "cell_type": "code",
   "execution_count": null,
   "id": "5d20f28a-88a4-4e32-a551-c77b96f4b6a8",
   "metadata": {},
   "outputs": [],
   "source": []
  }
 ],
 "metadata": {
  "kernelspec": {
   "display_name": "Python 3 (ipykernel)",
   "language": "python",
   "name": "python3"
  },
  "language_info": {
   "codemirror_mode": {
    "name": "ipython",
    "version": 3
   },
   "file_extension": ".py",
   "mimetype": "text/x-python",
   "name": "python",
   "nbconvert_exporter": "python",
   "pygments_lexer": "ipython3",
   "version": "3.8.20"
  }
 },
 "nbformat": 4,
 "nbformat_minor": 5
}
